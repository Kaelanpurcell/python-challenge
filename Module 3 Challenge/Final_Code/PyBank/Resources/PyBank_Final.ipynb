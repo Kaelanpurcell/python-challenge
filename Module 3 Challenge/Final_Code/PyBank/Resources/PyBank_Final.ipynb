{
 "cells": [
  {
   "cell_type": "code",
   "execution_count": 49,
   "id": "f1935c38",
   "metadata": {},
   "outputs": [],
   "source": [
    "import os\n",
    "import csv"
   ]
  },
  {
   "cell_type": "code",
   "execution_count": 50,
   "id": "61b61be2",
   "metadata": {},
   "outputs": [],
   "source": [
    "# Set path for files\n",
    "csvpath = os.path.join(\"budget_data.csv\")"
   ]
  },
  {
   "cell_type": "code",
   "execution_count": 51,
   "id": "b06a4f23",
   "metadata": {},
   "outputs": [],
   "source": [
    "#Setting Total_months, first_number, last_number, and diff to 0 and creating an empty list\n",
    "Total_months = 0 \n",
    "Net_Profit_loss = []\n",
    "first_number = 0 \n",
    "last_number = 0 \n",
    "diff = 0 "
   ]
  },
  {
   "cell_type": "code",
   "execution_count": 52,
   "id": "784282da",
   "metadata": {},
   "outputs": [],
   "source": [
    "#Reading csv\n",
    "with open (csvpath, newline = \"\") as csvfile:\n",
    "    budget_dataCsv = csv.reader(csvfile, delimiter = \",\")\n",
    "    csv_header = next(csvfile)\n",
    "    budgetDatalist = [row for row in budget_dataCsv]          \n"
   ]
  },
  {
   "cell_type": "code",
   "execution_count": 53,
   "id": "26ea7cb7",
   "metadata": {},
   "outputs": [],
   "source": [
    "#Reading csv\n",
    "with open (csvpath) as csvfile: \n",
    "    reader = csv.reader(csvfile)\n",
    "    header = next(reader)\n",
    "    \n",
    "    #Iterating over each line, and adding 1 when the Total_months is 0, and appending to the empty list    \n",
    "    for line in reader:\n",
    "        if Total_months==0:\n",
    "            Total_months+= 1\n",
    "        Net_Profit_loss.append(int (line[1]))\n"
   ]
  },
  {
   "cell_type": "code",
   "execution_count": 54,
   "id": "8d9a8f8e",
   "metadata": {},
   "outputs": [],
   "source": [
    "#Reading csv and creating empty lists\n",
    "with open (csvpath) as csvfile: \n",
    "    reader = csv.reader(csvfile)\n",
    "    header = next(reader)\n",
    "    prof_los = []\n",
    "    diffs = []\n",
    "    #Iterating every line and append to the prof_los empty list\n",
    "    for line in reader:\n",
    "      prof_los.append(int(line[1]))\n",
    "    #Creating try catch statements \n",
    "    for index, num in enumerate(prof_los):\n",
    "      try:\n",
    "       if index != 0:\n",
    "        diff = abs(prof_los[index]) - abs(prof_los[index-1])\n",
    "        diffs.append(diff)\n",
    "      except Exception:\n",
    "        continue\n",
    "        #Assigning the average of differences to a variable and printing \n",
    "    average = sum(diffs)/len(diffs)"
   ]
  },
  {
   "cell_type": "code",
   "execution_count": 55,
   "id": "b5406c9c",
   "metadata": {},
   "outputs": [
    {
     "ename": "TypeError",
     "evalue": "'int' object is not callable",
     "output_type": "error",
     "traceback": [
      "\u001b[0;31m---------------------------------------------------------------------------\u001b[0m",
      "\u001b[0;31mTypeError\u001b[0m                                 Traceback (most recent call last)",
      "Cell \u001b[0;32mIn[55], line 20\u001b[0m\n\u001b[1;32m     18\u001b[0m   \u001b[38;5;28;01mexcept\u001b[39;00m \u001b[38;5;167;01mException\u001b[39;00m:\n\u001b[1;32m     19\u001b[0m     \u001b[38;5;28;01mcontinue\u001b[39;00m\n\u001b[0;32m---> 20\u001b[0m \u001b[38;5;28mmax\u001b[39m \u001b[38;5;241m=\u001b[39m \u001b[38;5;28mmax\u001b[39m(diffs)\n\u001b[1;32m     21\u001b[0m \u001b[38;5;28mmin\u001b[39m \u001b[38;5;241m=\u001b[39m \u001b[38;5;28mmin\u001b[39m(diffs)\n\u001b[1;32m     23\u001b[0m max_index \u001b[38;5;241m=\u001b[39m diffs\u001b[38;5;241m.\u001b[39mindex(\u001b[38;5;28mmax\u001b[39m) \u001b[38;5;241m+\u001b[39m \u001b[38;5;241m1\u001b[39m\n",
      "\u001b[0;31mTypeError\u001b[0m: 'int' object is not callable"
     ]
    }
   ],
   "source": [
    "#Reading csv and creating empty lists\n",
    "with open (csvpath) as csvfile: \n",
    "    reader = csv.reader(csvfile)\n",
    "    header = next(reader)\n",
    "    prof_los = []\n",
    "    months = []\n",
    "    diffs = []\n",
    "    #Iterating over every line\n",
    "    for line in reader:\n",
    "      prof_los.append(int(line[1]))\n",
    "      months.append(line[0])\n",
    "    \n",
    "    for index, num in enumerate(prof_los):\n",
    "      try:\n",
    "       if index != 0:\n",
    "        diff = prof_los[index] - prof_los[index-1]\n",
    "        diffs.append(diff)\n",
    "      except Exception:\n",
    "        continue\n",
    "    max = max(diffs)\n",
    "    min = min(diffs)\n",
    "\n",
    "    max_index = diffs.index(max) + 1\n",
    "    min_index = diffs.index(min) + 1"
   ]
  },
  {
   "cell_type": "code",
   "execution_count": 69,
   "id": "8623f41c",
   "metadata": {},
   "outputs": [
    {
     "name": "stdout",
     "output_type": "stream",
     "text": [
      "Financial Analysis\n",
      "-------------------------------------------\n",
      "Total months :86\n",
      "Total: $22564198\n",
      "Average change:$-8311.105882352942\n",
      "Greatest Increase in Profits: Aug-16 1862002\n",
      "Greatest Decrease in Profits: Feb-14 -1825558\n"
     ]
    }
   ],
   "source": [
    "print(\"Financial Analysis\")\n",
    "print(\"-------------------------------------------\")\n",
    "\n",
    "print(\"Total months :\" + str(len(budgetDatalist)))\n",
    "print(\"Total: \" + \"$\" + str(sum(Net_Profit_loss)))\n",
    "print(\"Average change:\" + \"$\" + str(average))\n",
    "print(\"Greatest Increase in Profits: \" + months[max_index],max)\n",
    "print(\"Greatest Decrease in Profits: \" + months[min_index],min)"
   ]
  },
  {
   "cell_type": "code",
   "execution_count": 76,
   "id": "ef0d62c0",
   "metadata": {},
   "outputs": [],
   "source": [
    "#Name white file\n",
    "output_file = csvpath[0:-4]\n",
    "\n",
    "write_budget_dataCSV = f\"{output_file}_pybank_results.txt\"\n",
    "\n",
    "#Open write file\n",
    "filewriter = open(write_budget_dataCSV, mode = 'w')\n",
    "\n",
    "#Print to write file\n",
    "filewriter.write(f\"Financial Analysis:\\n\")\n",
    "filewriter.write(\"-------------------------------------------------------\\n\")\n",
    "filewriter.write(f\"Total Months: {month_counter}\\n\")\n",
    "filewriter.write(f\"Total Revenue: {sum_revenue} USD\\n\")\n",
    "filewriter.write(f\"Average Revenue Change: {average} USD\\n\")\n",
    "filewriter.write(f\"Greatest Increase in Revenue: {max_month} {max_revenue} USD\\n\")\n",
    "filewriter.write(f\"Greatest Decrease in Revenue: {min_month} {min_revenue} USD\\n\")\n",
    "filewriter.write(\"\")\n",
    "\n",
    "#Close write file\n",
    "filewriter.close()"
   ]
  },
  {
   "cell_type": "code",
   "execution_count": null,
   "id": "54c7b7cb",
   "metadata": {},
   "outputs": [],
   "source": []
  },
  {
   "cell_type": "code",
   "execution_count": null,
   "id": "f5b06412",
   "metadata": {},
   "outputs": [],
   "source": []
  },
  {
   "cell_type": "code",
   "execution_count": null,
   "id": "df773dfb",
   "metadata": {},
   "outputs": [],
   "source": []
  },
  {
   "cell_type": "code",
   "execution_count": null,
   "id": "a2947eee",
   "metadata": {},
   "outputs": [],
   "source": []
  },
  {
   "cell_type": "code",
   "execution_count": null,
   "id": "df320f3c",
   "metadata": {},
   "outputs": [],
   "source": []
  }
 ],
 "metadata": {
  "kernelspec": {
   "display_name": "Python 3 (ipykernel)",
   "language": "python",
   "name": "python3"
  },
  "language_info": {
   "codemirror_mode": {
    "name": "ipython",
    "version": 3
   },
   "file_extension": ".py",
   "mimetype": "text/x-python",
   "name": "python",
   "nbconvert_exporter": "python",
   "pygments_lexer": "ipython3",
   "version": "3.11.0"
  }
 },
 "nbformat": 4,
 "nbformat_minor": 5
}
