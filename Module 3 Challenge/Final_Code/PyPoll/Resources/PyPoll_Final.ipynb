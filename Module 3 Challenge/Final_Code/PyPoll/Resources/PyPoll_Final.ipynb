{
 "cells": [
  {
   "cell_type": "code",
   "execution_count": 1,
   "id": "0fb802d3",
   "metadata": {},
   "outputs": [],
   "source": [
    "import os \n",
    "import csv\n",
    "import collections "
   ]
  },
  {
   "cell_type": "code",
   "execution_count": 2,
   "id": "b4f2046a",
   "metadata": {},
   "outputs": [],
   "source": [
    "# Set path for files\n",
    "csvpath = os.path.join('election_data.csv')"
   ]
  },
  {
   "cell_type": "code",
   "execution_count": 3,
   "id": "d53161aa",
   "metadata": {},
   "outputs": [],
   "source": [
    "Total_votes = 0"
   ]
  },
  {
   "cell_type": "code",
   "execution_count": 4,
   "id": "46094cd9",
   "metadata": {},
   "outputs": [
    {
     "name": "stdout",
     "output_type": "stream",
     "text": [
      "Total Votes:  369711\n",
      "-------------------------\n",
      "Diana DeGette: 73.812% (272892)\n",
      "Charles Casper Stockham: 23.049% (85213)\n",
      "Raymon Anthony Doane: 3.139% (11606)\n",
      "-------------------------\n",
      "Winner:  Diana DeGette\n"
     ]
    }
   ],
   "source": [
    "sumkhan = 0 \n",
    "d=[]\n",
    "with open (csvpath) as csvfile:\n",
    "    reader = csv.reader(csvfile)\n",
    "    header = next(reader)\n",
    "    result = {}\n",
    "    for line in reader:\n",
    "        candidate = line[2]\n",
    "        Total_votes += 1\n",
    "        if candidate in result:\n",
    "            result[candidate]['vote_count'] += 1\n",
    "        else:\n",
    "            result[candidate] = {'vote_count': 1}\n",
    "    winner = list(result.keys())[0]\n",
    "    output = []\n",
    "    for candidate in result:\n",
    "        result[candidate]['percentage_vote'] = (result[candidate]['vote_count']/ Total_votes) * 100\n",
    "        result[candidate]['candidate'] = candidate\n",
    "        if result[winner]['vote_count'] < result[candidate]['vote_count']:\n",
    "            winner = candidate\n",
    "        output.append(result[candidate])    \n",
    "             \n",
    "with open('output.txt', 'w') as output_file:\n",
    "    print('Total Votes: ', Total_votes)\n",
    "    output_file.write('Total Votes: {} \\n'.format(Total_votes))\n",
    "    print('-------------------------')\n",
    "    output_file.write('------------------------- \\n')\n",
    "    for candidate in sorted(output, key= lambda x: x['vote_count'], reverse=True):     \n",
    "        print('{}: {}% ({})'.format(candidate['candidate'], round(candidate['percentage_vote'], 3), candidate['vote_count']))\n",
    "        output_file.write('{}: {}% ({}) \\n'.format(candidate['candidate'], round(candidate['percentage_vote'], 3), candidate['vote_count']))\n",
    "    print('-------------------------')\n",
    "    output_file.write('------------------------- \\n')\n",
    "    print('Winner: ',winner)\n",
    "    output_file.write('Winner: {}'.format(winner))\n",
    "    \n"
   ]
  },
  {
   "cell_type": "code",
   "execution_count": 21,
   "id": "16e9228c",
   "metadata": {},
   "outputs": [
    {
     "ename": "KeyError",
     "evalue": "0",
     "output_type": "error",
     "traceback": [
      "\u001b[0;31m---------------------------------------------------------------------------\u001b[0m",
      "\u001b[0;31mKeyError\u001b[0m                                  Traceback (most recent call last)",
      "Cell \u001b[0;32mIn[21], line 14\u001b[0m\n\u001b[1;32m     12\u001b[0m filewriter\u001b[38;5;241m.\u001b[39mwrite(\u001b[38;5;124mf\u001b[39m\u001b[38;5;124m\"\u001b[39m\u001b[38;5;124mTotal Votes: \u001b[39m\u001b[38;5;132;01m{\u001b[39;00mTotal_votes\u001b[38;5;132;01m}\u001b[39;00m\u001b[38;5;130;01m\\n\u001b[39;00m\u001b[38;5;124m\"\u001b[39m)\n\u001b[1;32m     13\u001b[0m \u001b[38;5;28;01mfor\u001b[39;00m count \u001b[38;5;129;01min\u001b[39;00m \u001b[38;5;28mrange\u001b[39m(\u001b[38;5;28mlen\u001b[39m(candidate)):\n\u001b[0;32m---> 14\u001b[0m     filewriter\u001b[38;5;241m.\u001b[39mwrite(\u001b[38;5;124mf\u001b[39m\u001b[38;5;124m\"\u001b[39m\u001b[38;5;132;01m{\u001b[39;00mcandidate[count]\u001b[38;5;132;01m}\u001b[39;00m\u001b[38;5;124m: \u001b[39m\u001b[38;5;132;01m{\u001b[39;00mpercentage_vote[count]\u001b[38;5;132;01m}\u001b[39;00m\u001b[38;5;124m% (\u001b[39m\u001b[38;5;132;01m{\u001b[39;00mvote_count[count]\u001b[38;5;132;01m}\u001b[39;00m\u001b[38;5;124m)\u001b[39m\u001b[38;5;130;01m\\n\u001b[39;00m\u001b[38;5;124m\"\u001b[39m)\n\u001b[1;32m     15\u001b[0m     filewriter\u001b[38;5;241m.\u001b[39mwrite(\u001b[38;5;124m\"\u001b[39m\u001b[38;5;124m---------------------------\u001b[39m\u001b[38;5;130;01m\\n\u001b[39;00m\u001b[38;5;124m\"\u001b[39m)\n\u001b[1;32m     16\u001b[0m     filewriter\u001b[38;5;241m.\u001b[39mwrite(\u001b[38;5;124mf\u001b[39m\u001b[38;5;124m\"\u001b[39m\u001b[38;5;124mWinner: \u001b[39m\u001b[38;5;132;01m{\u001b[39;00mwinner\u001b[38;5;132;01m}\u001b[39;00m\u001b[38;5;130;01m\\n\u001b[39;00m\u001b[38;5;124m\"\u001b[39m)\n",
      "\u001b[0;31mKeyError\u001b[0m: 0"
     ]
    }
   ],
   "source": []
  },
  {
   "cell_type": "code",
   "execution_count": null,
   "id": "abc957f9",
   "metadata": {},
   "outputs": [],
   "source": []
  }
 ],
 "metadata": {
  "kernelspec": {
   "display_name": "Python 3 (ipykernel)",
   "language": "python",
   "name": "python3"
  },
  "language_info": {
   "codemirror_mode": {
    "name": "ipython",
    "version": 3
   },
   "file_extension": ".py",
   "mimetype": "text/x-python",
   "name": "python",
   "nbconvert_exporter": "python",
   "pygments_lexer": "ipython3",
   "version": "3.11.0"
  }
 },
 "nbformat": 4,
 "nbformat_minor": 5
}
